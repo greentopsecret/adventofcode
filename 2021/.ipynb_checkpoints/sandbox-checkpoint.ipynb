{
 "cells": [
  {
   "cell_type": "code",
   "execution_count": 1,
   "id": "150d2e87-0c3f-45a9-a92a-7b31d2a09668",
   "metadata": {},
   "outputs": [],
   "source": [
    "import numpy as np"
   ]
  },
  {
   "cell_type": "code",
   "execution_count": 7,
   "id": "6de62617-2945-4ee4-b193-98cdcd549bfe",
   "metadata": {},
   "outputs": [
    {
     "data": {
      "text/plain": [
       "['7,4,9,5,11,17,23,2,0,14,21,24,10,16,13,6,15,25,12,22,18,20,8,19,3,26,1',\n",
       " '',\n",
       " '22 13 17 11  0',\n",
       " ' 8  2 23  4 24',\n",
       " '21  9 14 16  7',\n",
       " ' 6 10  3 18  5',\n",
       " ' 1 12 20 15 19',\n",
       " '',\n",
       " ' 3 15  0  2 22',\n",
       " ' 9 18 13 17  5',\n",
       " '19  8  7 25 23',\n",
       " '20 11 10 24  4',\n",
       " '14 21 16 12  6',\n",
       " '',\n",
       " '14 21 17 24  4',\n",
       " '10 16 15  9 19',\n",
       " '18  8 23 26 20',\n",
       " '22 11 13  6  5',\n",
       " ' 2  0 12  3  7']"
      ]
     },
     "execution_count": 7,
     "metadata": {},
     "output_type": "execute_result"
    }
   ],
   "source": [
    "f = open('./data/day4a_test.txt', 'r')\n",
    "data = f.read()\n",
    "lines = data.split('\\n')\n",
    "lines"
   ]
  },
  {
   "cell_type": "code",
   "execution_count": 8,
   "id": "de73b2b7-74cb-4125-b401-838cbddb07f4",
   "metadata": {},
   "outputs": [],
   "source": [
    "numbers = lines[0].split(',')"
   ]
  },
  {
   "cell_type": "code",
   "execution_count": 16,
   "id": "b83180ce-11bf-4249-98ae-bd3a1c866f60",
   "metadata": {},
   "outputs": [
    {
     "name": "stdout",
     "output_type": "stream",
     "text": [
      "[['22 13 17 11  0'], [' 8  2 23  4 24'], ['21  9 14 16  7'], [' 6 10  3 18  5'], [' 1 12 20 15 19']]\n"
     ]
    }
   ],
   "source": [
    "# boards = data.split('\\n\\n')[1:]\n",
    "boards = data.split('\\n\\n')[1:2]\n",
    "for i in range(0, len(boards)):\n",
    "    board = boards[i]\n",
    "    cols = []\n",
    "    rows = []\n",
    "    r = board.split('\\n')\n",
    "    for j in range(0, len(r)):\n",
    "        row = r[j].split(r\" +\")\n",
    "        rows.append(row)\n",
    "    print(rows)\n",
    "        "
   ]
  },
  {
   "cell_type": "code",
   "execution_count": null,
   "id": "6265cf1c-0254-452c-91e2-e06a79c9c782",
   "metadata": {},
   "outputs": [],
   "source": []
  }
 ],
 "metadata": {
  "kernelspec": {
   "display_name": "Python 3 (ipykernel)",
   "language": "python",
   "name": "python3"
  },
  "language_info": {
   "codemirror_mode": {
    "name": "ipython",
    "version": 3
   },
   "file_extension": ".py",
   "mimetype": "text/x-python",
   "name": "python",
   "nbconvert_exporter": "python",
   "pygments_lexer": "ipython3",
   "version": "3.8.8"
  }
 },
 "nbformat": 4,
 "nbformat_minor": 5
}
