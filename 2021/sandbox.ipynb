{
 "cells": [
  {
   "cell_type": "code",
   "execution_count": 1,
   "id": "150d2e87-0c3f-45a9-a92a-7b31d2a09668",
   "metadata": {},
   "outputs": [],
   "source": [
    "import numpy as np"
   ]
  },
  {
   "cell_type": "code",
   "execution_count": 7,
   "id": "6de62617-2945-4ee4-b193-98cdcd549bfe",
   "metadata": {},
   "outputs": [
    {
     "data": {
      "text/plain": [
       "['7,4,9,5,11,17,23,2,0,14,21,24,10,16,13,6,15,25,12,22,18,20,8,19,3,26,1',\n",
       " '',\n",
       " '22 13 17 11  0',\n",
       " ' 8  2 23  4 24',\n",
       " '21  9 14 16  7',\n",
       " ' 6 10  3 18  5',\n",
       " ' 1 12 20 15 19',\n",
       " '',\n",
       " ' 3 15  0  2 22',\n",
       " ' 9 18 13 17  5',\n",
       " '19  8  7 25 23',\n",
       " '20 11 10 24  4',\n",
       " '14 21 16 12  6',\n",
       " '',\n",
       " '14 21 17 24  4',\n",
       " '10 16 15  9 19',\n",
       " '18  8 23 26 20',\n",
       " '22 11 13  6  5',\n",
       " ' 2  0 12  3  7']"
      ]
     },
     "execution_count": 7,
     "metadata": {},
     "output_type": "execute_result"
    }
   ],
   "source": [
    "f = open('./data/day4a_test.txt', 'r')\n",
    "data = f.read()\n",
    "lines = data.split('\\n')\n",
    "lines"
   ]
  },
  {
   "cell_type": "code",
   "execution_count": 8,
   "id": "de73b2b7-74cb-4125-b401-838cbddb07f4",
   "metadata": {},
   "outputs": [],
   "source": [
    "numbers = lines[0].split(',')"
   ]
  },
  {
   "cell_type": "code",
   "execution_count": 51,
   "id": "b83180ce-11bf-4249-98ae-bd3a1c866f60",
   "metadata": {},
   "outputs": [
    {
     "name": "stdout",
     "output_type": "stream",
     "text": [
      "[[14 21 17 24  4]\n",
      " [10 16 15  9 19]\n",
      " [18  8 23 26 20]\n",
      " [22 11 13  6  5]\n",
      " [ 2  0 12  3  7]]\n"
     ]
    }
   ],
   "source": [
    "# boards = data.split('\\n\\n')[1:]\n",
    "boards = data.split('\\n\\n')[3:4]\n",
    "for i in range(0, len(boards)):\n",
    "    board = boards[i]\n",
    "    rows = []\n",
    "    r = board.split('\\n')\n",
    "    for j in range(0, len(r)):\n",
    "        rows.append(list(map(lambda x: int(x), r[j].split())))\n",
    "    matrix = np.array(rows)\n",
    "    print(matrix)\n",
    "                "
   ]
  },
  {
   "cell_type": "code",
   "execution_count": 37,
   "id": "6265cf1c-0254-452c-91e2-e06a79c9c782",
   "metadata": {},
   "outputs": [
    {
     "data": {
      "text/plain": [
       "array(['14', '21', '17', '24', '4'], dtype='<U2')"
      ]
     },
     "execution_count": 37,
     "metadata": {},
     "output_type": "execute_result"
    }
   ],
   "source": [
    "matrix = np.array(rows)\n",
    "matrix[0]"
   ]
  },
  {
   "cell_type": "code",
   "execution_count": 41,
   "id": "e6e26409-9669-43d1-8ac6-9893f2450395",
   "metadata": {},
   "outputs": [
    {
     "data": {
      "text/plain": [
       "(array([0]), array([1]))"
      ]
     },
     "execution_count": 41,
     "metadata": {},
     "output_type": "execute_result"
    }
   ],
   "source": [
    "np.where(matrix == '21')"
   ]
  },
  {
   "cell_type": "code",
   "execution_count": 69,
   "id": "d204d8bb-41a4-4ccd-b010-8db5ce398f3a",
   "metadata": {},
   "outputs": [
    {
     "data": {
      "text/plain": [
       "[array([14, 21, 17, 24,  4]),\n",
       " array([14, 10, 18, 22,  2]),\n",
       " array([10, 16, 15,  9, 19]),\n",
       " array([21, 16,  8, 11,  0]),\n",
       " array([18,  8, 23, 26, 20]),\n",
       " array([17, 15, 23, 13, 12]),\n",
       " array([22, 11, 13,  6,  5]),\n",
       " array([24,  9, 26,  6,  3]),\n",
       " array([ 2,  0, 12,  3,  7]),\n",
       " array([ 4, 19, 20,  5,  7])]"
      ]
     },
     "execution_count": 69,
     "metadata": {},
     "output_type": "execute_result"
    }
   ],
   "source": [
    "lines = []\n",
    "for i in range(0, len(matrix)):\n",
    "    lines.append(matrix[i])\n",
    "    lines.append(matrix[:, i])\n",
    "    \n",
    "lines"
   ]
  },
  {
   "cell_type": "code",
   "execution_count": 46,
   "id": "44a5c37c-6848-41a1-9275-0003c96b87e7",
   "metadata": {},
   "outputs": [
    {
     "data": {
      "text/plain": [
       "array(['14', '17', '24', '4'], dtype='<U2')"
      ]
     },
     "execution_count": 46,
     "metadata": {},
     "output_type": "execute_result"
    }
   ],
   "source": [
    "np.delete(lines[0], np.where(lines[0] == '21'))"
   ]
  },
  {
   "cell_type": "code",
   "execution_count": 66,
   "id": "db416bd6-584d-4615-893e-3bffcb1e70fa",
   "metadata": {},
   "outputs": [
    {
     "name": "stdout",
     "output_type": "stream",
     "text": [
      "<class 'list'>\n",
      "[1]\n",
      "<class 'list'>\n",
      "[1]\n"
     ]
    },
    {
     "data": {
      "text/plain": [
       "[2]"
      ]
     },
     "execution_count": 66,
     "metadata": {},
     "output_type": "execute_result"
    }
   ],
   "source": [
    "a = list([1])\n",
    "print(type(a))\n",
    "print(a)\n",
    "\n",
    "b = [1]\n",
    "print(type(b))\n",
    "print(b)\n",
    "\n",
    "a[0] = 2\n",
    "a"
   ]
  },
  {
   "cell_type": "code",
   "execution_count": 70,
   "id": "fb015a31-8461-49de-bb54-b6d7575afb7e",
   "metadata": {},
   "outputs": [
    {
     "data": {
      "text/plain": [
       "[array([14, 17, 24,  4]),\n",
       " array([14, 10, 18, 22,  2]),\n",
       " array([10, 16, 15,  9, 19]),\n",
       " array([16,  8, 11,  0]),\n",
       " array([18,  8, 23, 26, 20]),\n",
       " array([17, 15, 23, 13, 12]),\n",
       " array([22, 11, 13,  6,  5]),\n",
       " array([24,  9, 26,  6,  3]),\n",
       " array([ 2,  0, 12,  3,  7]),\n",
       " array([ 4, 19, 20,  5,  7])]"
      ]
     },
     "execution_count": 70,
     "metadata": {},
     "output_type": "execute_result"
    }
   ],
   "source": [
    "number = 21\n",
    "\n",
    "l = lines.copy()\n",
    "\n",
    "for i in range(len(l)):\n",
    "    line = l[i]\n",
    "    line = np.delete(line, np.where(line == number))\n",
    "    l[i] = line\n",
    "#     if not len(line):\n",
    "\n",
    "l"
   ]
  },
  {
   "cell_type": "code",
   "execution_count": 83,
   "id": "2aa2278e-f6b6-4c57-a592-401bf26072d4",
   "metadata": {},
   "outputs": [
    {
     "data": {
      "text/plain": [
       "[7,\n",
       " 4,\n",
       " 9,\n",
       " 5,\n",
       " 11,\n",
       " 17,\n",
       " 23,\n",
       " 2,\n",
       " 0,\n",
       " 14,\n",
       " 21,\n",
       " 24,\n",
       " 10,\n",
       " 16,\n",
       " 13,\n",
       " 6,\n",
       " 15,\n",
       " 25,\n",
       " 12,\n",
       " 22,\n",
       " 18,\n",
       " 20,\n",
       " 8,\n",
       " 19,\n",
       " 3,\n",
       " 26,\n",
       " 1]"
      ]
     },
     "execution_count": 83,
     "metadata": {},
     "output_type": "execute_result"
    }
   ],
   "source": [
    "f = open('./data/day4a_test.txt', 'r')\n",
    "data = f.read()\n",
    "tmp = data.split('\\n\\n')\n",
    "# numbers = list(map(lambda x: int(x), tmp[:1][0].split(',')))\n",
    "numbers = [int(x) for x in tmp[:1][0].split(',')]\n",
    "numbers"
   ]
  },
  {
   "cell_type": "code",
   "execution_count": 93,
   "id": "bab23c57-74c8-4fcd-b249-e632445e78d4",
   "metadata": {},
   "outputs": [],
   "source": [
    "numbers = lines[0].tolist()"
   ]
  },
  {
   "cell_type": "code",
   "execution_count": 99,
   "id": "97a8753c-6b06-4b37-bf34-268aeca564cf",
   "metadata": {},
   "outputs": [
    {
     "data": {
      "text/plain": [
       "80"
      ]
     },
     "execution_count": 99,
     "metadata": {},
     "output_type": "execute_result"
    }
   ],
   "source": [
    "sum({numbers[i]: True for i in range(0, len(numbers))}.keys())"
   ]
  },
  {
   "cell_type": "code",
   "execution_count": 100,
   "id": "86b48b03-447a-421a-a341-8128bc55f1e3",
   "metadata": {},
   "outputs": [
    {
     "ename": "TypeError",
     "evalue": "list indices must be integers or slices, not list",
     "output_type": "error",
     "traceback": [
      "\u001b[0;31m---------------------------------------------------------------------------\u001b[0m",
      "\u001b[0;31mTypeError\u001b[0m                                 Traceback (most recent call last)",
      "\u001b[0;32m/var/folders/mb/xqr44lqn1nv2_cy87gj4m2100000gn/T/ipykernel_16222/1731714147.py\u001b[0m in \u001b[0;36m<module>\u001b[0;34m\u001b[0m\n\u001b[1;32m      2\u001b[0m \u001b[0mdi\u001b[0m \u001b[0;34m=\u001b[0m \u001b[0;34m[\u001b[0m\u001b[0;36m1\u001b[0m\u001b[0;34m,\u001b[0m\u001b[0;36m2\u001b[0m\u001b[0;34m]\u001b[0m\u001b[0;34m\u001b[0m\u001b[0;34m\u001b[0m\u001b[0m\n\u001b[1;32m      3\u001b[0m \u001b[0;34m\u001b[0m\u001b[0m\n\u001b[0;32m----> 4\u001b[0;31m \u001b[0;32mdel\u001b[0m \u001b[0ml\u001b[0m\u001b[0;34m[\u001b[0m\u001b[0mdi\u001b[0m\u001b[0;34m]\u001b[0m\u001b[0;34m\u001b[0m\u001b[0;34m\u001b[0m\u001b[0m\n\u001b[0m",
      "\u001b[0;31mTypeError\u001b[0m: list indices must be integers or slices, not list"
     ]
    }
   ],
   "source": [
    "l = [1,2,3,4]\n",
    "di = [1,2]\n",
    "\n",
    "del l[di]"
   ]
  },
  {
   "cell_type": "code",
   "execution_count": null,
   "id": "ecba4d7a-f36c-4bc8-a22c-89acf3e0ebda",
   "metadata": {},
   "outputs": [],
   "source": []
  }
 ],
 "metadata": {
  "kernelspec": {
   "display_name": "Python 3 (ipykernel)",
   "language": "python",
   "name": "python3"
  },
  "language_info": {
   "codemirror_mode": {
    "name": "ipython",
    "version": 3
   },
   "file_extension": ".py",
   "mimetype": "text/x-python",
   "name": "python",
   "nbconvert_exporter": "python",
   "pygments_lexer": "ipython3",
   "version": "3.8.8"
  }
 },
 "nbformat": 4,
 "nbformat_minor": 5
}
