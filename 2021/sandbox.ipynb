{
 "cells": [
  {
   "cell_type": "code",
   "execution_count": 1,
   "id": "150d2e87-0c3f-45a9-a92a-7b31d2a09668",
   "metadata": {},
   "outputs": [],
   "source": [
    "import numpy as np\n",
    "import re"
   ]
  },
  {
   "cell_type": "code",
   "execution_count": 115,
   "id": "0d51505e-1634-4240-b70a-2535faa862cb",
   "metadata": {},
   "outputs": [
    {
     "name": "stdout",
     "output_type": "stream",
     "text": [
      "102,578 -> 363,317\n",
      "536,470 -> 536,863\n",
      "578,460 -> 203,835\n",
      "42,859 -> 247,859\n",
      "618,147 -> 147,618\n",
      "119,31\n"
     ]
    }
   ],
   "source": [
    "f = open('./data/day5.txt', 'r')\n",
    "data = f.read()\n",
    "print(data[:100])"
   ]
  },
  {
   "cell_type": "code",
   "execution_count": 132,
   "id": "c590816c-dab5-4b7f-a736-214dac86db45",
   "metadata": {},
   "outputs": [],
   "source": [
    "data = \"\"\"0,9 -> 5,9\n",
    "8,0 -> 0,8\n",
    "9,4 -> 3,4\n",
    "2,2 -> 2,1\n",
    "7,0 -> 7,4\n",
    "6,4 -> 2,0\n",
    "0,9 -> 2,9\n",
    "3,4 -> 1,4\n",
    "0,0 -> 8,8\n",
    "5,5 -> 8,2\"\"\""
   ]
  },
  {
   "cell_type": "code",
   "execution_count": 135,
   "id": "d9ef005d-7ea2-4715-b801-fd0c2dbf51e2",
   "metadata": {},
   "outputs": [
    {
     "data": {
      "text/plain": [
       "{'9-0': 2,\n",
       " '9-1': 2,\n",
       " '9-2': 1,\n",
       " '9-3': 1,\n",
       " '9-4': 1,\n",
       " '0-7': 1,\n",
       " '1-7': 1,\n",
       " '2-7': 1,\n",
       " '3-7': 1}"
      ]
     },
     "execution_count": 135,
     "metadata": {},
     "output_type": "execute_result"
    }
   ],
   "source": [
    "raw_lines = data.split('\\n')\n",
    "lines = []\n",
    "map = {}\n",
    "for i in range(len(raw_lines)):\n",
    "    matches = re.findall(r'(\\d+)', raw_lines[i])\n",
    "    c = tuple(int(j) for j in matches)\n",
    "    if c[0] == c[2] or c[1] == c[3]:\n",
    "        if c[0] != c[2]:\n",
    "            for j in range(c[0], c[2]):\n",
    "                key = '%d-%d' % (c[1], j)\n",
    "                map[key] = 1 if key not in map.keys() else map[key] + 1\n",
    "        elif c[1] != c[3]:\n",
    "            for j in range(c[1], c[3]):\n",
    "                key = '%d-%d' % (j, c[0])\n",
    "                map[key] = 1 if key not in map.keys() else map[key] + 1\n",
    "        else: # if start == end\n",
    "            key = '%d-%d' % (c[0], c[1])\n",
    "            map[key] = 1 if key not in map.keys() else map[key] + 1\n",
    "            \n",
    "map"
   ]
  },
  {
   "cell_type": "code",
   "execution_count": 133,
   "id": "1cf07a84-4edf-4bb8-8e9d-87fad924ffa3",
   "metadata": {},
   "outputs": [
    {
     "data": {
      "text/plain": [
       "2"
      ]
     },
     "execution_count": 133,
     "metadata": {},
     "output_type": "execute_result"
    }
   ],
   "source": [
    "         \n",
    "len([v for v in map.values() if v > 1])\n",
    "\n",
    "    "
   ]
  },
  {
   "cell_type": "code",
   "execution_count": 8,
   "id": "de73b2b7-74cb-4125-b401-838cbddb07f4",
   "metadata": {},
   "outputs": [],
   "source": [
    "numbers = lines[0].split(',')"
   ]
  },
  {
   "cell_type": "code",
   "execution_count": null,
   "id": "ecba4d7a-f36c-4bc8-a22c-89acf3e0ebda",
   "metadata": {},
   "outputs": [],
   "source": []
  }
 ],
 "metadata": {
  "kernelspec": {
   "display_name": "Python 3 (ipykernel)",
   "language": "python",
   "name": "python3"
  },
  "language_info": {
   "codemirror_mode": {
    "name": "ipython",
    "version": 3
   },
   "file_extension": ".py",
   "mimetype": "text/x-python",
   "name": "python",
   "nbconvert_exporter": "python",
   "pygments_lexer": "ipython3",
   "version": "3.8.8"
  }
 },
 "nbformat": 4,
 "nbformat_minor": 5
}
